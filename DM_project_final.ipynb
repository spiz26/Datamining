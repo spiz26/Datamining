{
 "cells": [
  {
   "cell_type": "code",
   "execution_count": 1,
   "id": "9de2f7ef",
   "metadata": {
    "scrolled": true
   },
   "outputs": [
    {
     "name": "stderr",
     "output_type": "stream",
     "text": [
      "2022-05-24 22:32:13.329196: I tensorflow/stream_executor/platform/default/dso_loader.cc:49] Successfully opened dynamic library libcudart.so.11.0\n"
     ]
    }
   ],
   "source": [
    "#import basic library\n",
    "import os\n",
    "import numpy as np\n",
    "import pandas as pd\n",
    "import matplotlib.pyplot as plt\n",
    "import seaborn as sns\n",
    "from time import time as t\n",
    "\n",
    "#import tensorflow\n",
    "import tensorflow as tf\n",
    "from tensorflow.keras.optimizers import Adam\n",
    "from tensorflow.keras.models import Sequential\n",
    "from tensorflow.keras.layers import Dense, Dropout, BatchNormalization\n",
    "from tensorflow.keras import regularizers\n",
    "\n",
    "#import sklearn\n",
    "from sklearn.preprocessing import StandardScaler, MinMaxScaler\n",
    "from sklearn.metrics import mean_squared_error as MSE\n",
    "from sklearn.linear_model import LinearRegression\n",
    "from sklearn.ensemble import RandomForestRegressor\n",
    "from sklearn.tree import DecisionTreeRegressor\n",
    "\n",
    "from sklearn.model_selection import train_test_split\n",
    "from sklearn.model_selection import cross_val_score\n",
    "from sklearn.model_selection import GridSearchCV\n",
    "\n",
    "from sklearn.feature_selection import SelectKBest, f_regression\n",
    "from sklearn.decomposition import PCA\n",
    "from sklearn.manifold import TSNE"
   ]
  },
  {
   "cell_type": "code",
   "execution_count": 2,
   "id": "f2c4dcfb",
   "metadata": {},
   "outputs": [
    {
     "data": {
      "text/html": [
       "<div>\n",
       "<style scoped>\n",
       "    .dataframe tbody tr th:only-of-type {\n",
       "        vertical-align: middle;\n",
       "    }\n",
       "\n",
       "    .dataframe tbody tr th {\n",
       "        vertical-align: top;\n",
       "    }\n",
       "\n",
       "    .dataframe thead th {\n",
       "        text-align: right;\n",
       "    }\n",
       "</style>\n",
       "<table border=\"1\" class=\"dataframe\">\n",
       "  <thead>\n",
       "    <tr style=\"text-align: right;\">\n",
       "      <th></th>\n",
       "      <th>1-1</th>\n",
       "      <th>1-2</th>\n",
       "      <th>1-3</th>\n",
       "      <th>1-4</th>\n",
       "      <th>1-5</th>\n",
       "      <th>1-6</th>\n",
       "      <th>1-7</th>\n",
       "      <th>1-8</th>\n",
       "      <th>1-9</th>\n",
       "      <th>1-10</th>\n",
       "      <th>...</th>\n",
       "      <th>3-9</th>\n",
       "      <th>3-10</th>\n",
       "      <th>3-11</th>\n",
       "      <th>3-12</th>\n",
       "      <th>3-13</th>\n",
       "      <th>3-14</th>\n",
       "      <th>3-15</th>\n",
       "      <th>4-1</th>\n",
       "      <th>4-2</th>\n",
       "      <th>4-3</th>\n",
       "    </tr>\n",
       "  </thead>\n",
       "  <tbody>\n",
       "    <tr>\n",
       "      <th>0</th>\n",
       "      <td>1.00</td>\n",
       "      <td>0.833333</td>\n",
       "      <td>0.833333</td>\n",
       "      <td>0.833333</td>\n",
       "      <td>0.833333</td>\n",
       "      <td>0.666667</td>\n",
       "      <td>0.833333</td>\n",
       "      <td>0.666667</td>\n",
       "      <td>0.833333</td>\n",
       "      <td>0.833333</td>\n",
       "      <td>...</td>\n",
       "      <td>0.6</td>\n",
       "      <td>0.8</td>\n",
       "      <td>0.8</td>\n",
       "      <td>0.8</td>\n",
       "      <td>0.8</td>\n",
       "      <td>0.6</td>\n",
       "      <td>0.4</td>\n",
       "      <td>0.833333</td>\n",
       "      <td>0.666667</td>\n",
       "      <td>0.833333</td>\n",
       "    </tr>\n",
       "    <tr>\n",
       "      <th>1</th>\n",
       "      <td>0.75</td>\n",
       "      <td>0.833333</td>\n",
       "      <td>0.833333</td>\n",
       "      <td>0.833333</td>\n",
       "      <td>0.833333</td>\n",
       "      <td>0.666667</td>\n",
       "      <td>0.666667</td>\n",
       "      <td>0.666667</td>\n",
       "      <td>0.833333</td>\n",
       "      <td>0.833333</td>\n",
       "      <td>...</td>\n",
       "      <td>0.8</td>\n",
       "      <td>0.8</td>\n",
       "      <td>0.8</td>\n",
       "      <td>0.6</td>\n",
       "      <td>0.8</td>\n",
       "      <td>0.8</td>\n",
       "      <td>0.8</td>\n",
       "      <td>1.000000</td>\n",
       "      <td>1.000000</td>\n",
       "      <td>1.000000</td>\n",
       "    </tr>\n",
       "    <tr>\n",
       "      <th>2</th>\n",
       "      <td>0.75</td>\n",
       "      <td>0.666667</td>\n",
       "      <td>0.666667</td>\n",
       "      <td>0.666667</td>\n",
       "      <td>0.833333</td>\n",
       "      <td>0.833333</td>\n",
       "      <td>0.833333</td>\n",
       "      <td>0.666667</td>\n",
       "      <td>0.833333</td>\n",
       "      <td>1.000000</td>\n",
       "      <td>...</td>\n",
       "      <td>0.8</td>\n",
       "      <td>0.8</td>\n",
       "      <td>0.8</td>\n",
       "      <td>0.8</td>\n",
       "      <td>0.8</td>\n",
       "      <td>0.8</td>\n",
       "      <td>0.8</td>\n",
       "      <td>1.000000</td>\n",
       "      <td>1.000000</td>\n",
       "      <td>1.000000</td>\n",
       "    </tr>\n",
       "    <tr>\n",
       "      <th>3</th>\n",
       "      <td>1.00</td>\n",
       "      <td>0.833333</td>\n",
       "      <td>0.833333</td>\n",
       "      <td>0.833333</td>\n",
       "      <td>0.666667</td>\n",
       "      <td>0.833333</td>\n",
       "      <td>0.666667</td>\n",
       "      <td>0.500000</td>\n",
       "      <td>0.833333</td>\n",
       "      <td>0.833333</td>\n",
       "      <td>...</td>\n",
       "      <td>0.6</td>\n",
       "      <td>0.6</td>\n",
       "      <td>0.8</td>\n",
       "      <td>0.8</td>\n",
       "      <td>0.8</td>\n",
       "      <td>0.8</td>\n",
       "      <td>1.0</td>\n",
       "      <td>0.833333</td>\n",
       "      <td>0.833333</td>\n",
       "      <td>0.833333</td>\n",
       "    </tr>\n",
       "    <tr>\n",
       "      <th>4</th>\n",
       "      <td>1.00</td>\n",
       "      <td>1.000000</td>\n",
       "      <td>1.000000</td>\n",
       "      <td>1.000000</td>\n",
       "      <td>1.000000</td>\n",
       "      <td>1.000000</td>\n",
       "      <td>1.000000</td>\n",
       "      <td>1.000000</td>\n",
       "      <td>1.000000</td>\n",
       "      <td>1.000000</td>\n",
       "      <td>...</td>\n",
       "      <td>0.4</td>\n",
       "      <td>0.4</td>\n",
       "      <td>1.0</td>\n",
       "      <td>0.6</td>\n",
       "      <td>0.8</td>\n",
       "      <td>1.0</td>\n",
       "      <td>1.0</td>\n",
       "      <td>1.000000</td>\n",
       "      <td>1.000000</td>\n",
       "      <td>0.666667</td>\n",
       "    </tr>\n",
       "    <tr>\n",
       "      <th>...</th>\n",
       "      <td>...</td>\n",
       "      <td>...</td>\n",
       "      <td>...</td>\n",
       "      <td>...</td>\n",
       "      <td>...</td>\n",
       "      <td>...</td>\n",
       "      <td>...</td>\n",
       "      <td>...</td>\n",
       "      <td>...</td>\n",
       "      <td>...</td>\n",
       "      <td>...</td>\n",
       "      <td>...</td>\n",
       "      <td>...</td>\n",
       "      <td>...</td>\n",
       "      <td>...</td>\n",
       "      <td>...</td>\n",
       "      <td>...</td>\n",
       "      <td>...</td>\n",
       "      <td>...</td>\n",
       "      <td>...</td>\n",
       "      <td>...</td>\n",
       "    </tr>\n",
       "    <tr>\n",
       "      <th>12837</th>\n",
       "      <td>1.00</td>\n",
       "      <td>1.000000</td>\n",
       "      <td>1.000000</td>\n",
       "      <td>1.000000</td>\n",
       "      <td>1.000000</td>\n",
       "      <td>1.000000</td>\n",
       "      <td>1.000000</td>\n",
       "      <td>1.000000</td>\n",
       "      <td>0.666667</td>\n",
       "      <td>0.833333</td>\n",
       "      <td>...</td>\n",
       "      <td>0.6</td>\n",
       "      <td>0.6</td>\n",
       "      <td>0.6</td>\n",
       "      <td>0.6</td>\n",
       "      <td>0.6</td>\n",
       "      <td>0.6</td>\n",
       "      <td>0.6</td>\n",
       "      <td>0.666667</td>\n",
       "      <td>0.500000</td>\n",
       "      <td>0.500000</td>\n",
       "    </tr>\n",
       "    <tr>\n",
       "      <th>12838</th>\n",
       "      <td>1.00</td>\n",
       "      <td>0.833333</td>\n",
       "      <td>0.666667</td>\n",
       "      <td>0.833333</td>\n",
       "      <td>0.833333</td>\n",
       "      <td>0.666667</td>\n",
       "      <td>0.833333</td>\n",
       "      <td>0.666667</td>\n",
       "      <td>1.000000</td>\n",
       "      <td>1.000000</td>\n",
       "      <td>...</td>\n",
       "      <td>0.8</td>\n",
       "      <td>0.8</td>\n",
       "      <td>0.8</td>\n",
       "      <td>0.8</td>\n",
       "      <td>0.8</td>\n",
       "      <td>0.6</td>\n",
       "      <td>0.6</td>\n",
       "      <td>1.000000</td>\n",
       "      <td>0.833333</td>\n",
       "      <td>0.833333</td>\n",
       "    </tr>\n",
       "    <tr>\n",
       "      <th>12839</th>\n",
       "      <td>0.75</td>\n",
       "      <td>0.833333</td>\n",
       "      <td>0.666667</td>\n",
       "      <td>0.666667</td>\n",
       "      <td>0.666667</td>\n",
       "      <td>0.833333</td>\n",
       "      <td>0.666667</td>\n",
       "      <td>0.833333</td>\n",
       "      <td>1.000000</td>\n",
       "      <td>1.000000</td>\n",
       "      <td>...</td>\n",
       "      <td>0.8</td>\n",
       "      <td>0.8</td>\n",
       "      <td>0.8</td>\n",
       "      <td>0.8</td>\n",
       "      <td>0.8</td>\n",
       "      <td>0.8</td>\n",
       "      <td>0.8</td>\n",
       "      <td>0.833333</td>\n",
       "      <td>1.000000</td>\n",
       "      <td>1.000000</td>\n",
       "    </tr>\n",
       "    <tr>\n",
       "      <th>12840</th>\n",
       "      <td>1.00</td>\n",
       "      <td>0.833333</td>\n",
       "      <td>0.833333</td>\n",
       "      <td>1.000000</td>\n",
       "      <td>0.833333</td>\n",
       "      <td>0.500000</td>\n",
       "      <td>0.666667</td>\n",
       "      <td>0.500000</td>\n",
       "      <td>0.833333</td>\n",
       "      <td>1.000000</td>\n",
       "      <td>...</td>\n",
       "      <td>1.0</td>\n",
       "      <td>1.0</td>\n",
       "      <td>0.8</td>\n",
       "      <td>0.8</td>\n",
       "      <td>1.0</td>\n",
       "      <td>0.8</td>\n",
       "      <td>0.8</td>\n",
       "      <td>0.666667</td>\n",
       "      <td>1.000000</td>\n",
       "      <td>0.833333</td>\n",
       "    </tr>\n",
       "    <tr>\n",
       "      <th>12841</th>\n",
       "      <td>0.75</td>\n",
       "      <td>0.666667</td>\n",
       "      <td>0.666667</td>\n",
       "      <td>0.666667</td>\n",
       "      <td>0.666667</td>\n",
       "      <td>0.833333</td>\n",
       "      <td>0.666667</td>\n",
       "      <td>0.833333</td>\n",
       "      <td>0.833333</td>\n",
       "      <td>1.000000</td>\n",
       "      <td>...</td>\n",
       "      <td>0.6</td>\n",
       "      <td>0.6</td>\n",
       "      <td>0.6</td>\n",
       "      <td>0.6</td>\n",
       "      <td>0.8</td>\n",
       "      <td>0.6</td>\n",
       "      <td>0.8</td>\n",
       "      <td>1.000000</td>\n",
       "      <td>0.833333</td>\n",
       "      <td>1.000000</td>\n",
       "    </tr>\n",
       "  </tbody>\n",
       "</table>\n",
       "<p>12842 rows × 52 columns</p>\n",
       "</div>"
      ],
      "text/plain": [
       "        1-1       1-2       1-3       1-4       1-5       1-6       1-7  \\\n",
       "0      1.00  0.833333  0.833333  0.833333  0.833333  0.666667  0.833333   \n",
       "1      0.75  0.833333  0.833333  0.833333  0.833333  0.666667  0.666667   \n",
       "2      0.75  0.666667  0.666667  0.666667  0.833333  0.833333  0.833333   \n",
       "3      1.00  0.833333  0.833333  0.833333  0.666667  0.833333  0.666667   \n",
       "4      1.00  1.000000  1.000000  1.000000  1.000000  1.000000  1.000000   \n",
       "...     ...       ...       ...       ...       ...       ...       ...   \n",
       "12837  1.00  1.000000  1.000000  1.000000  1.000000  1.000000  1.000000   \n",
       "12838  1.00  0.833333  0.666667  0.833333  0.833333  0.666667  0.833333   \n",
       "12839  0.75  0.833333  0.666667  0.666667  0.666667  0.833333  0.666667   \n",
       "12840  1.00  0.833333  0.833333  1.000000  0.833333  0.500000  0.666667   \n",
       "12841  0.75  0.666667  0.666667  0.666667  0.666667  0.833333  0.666667   \n",
       "\n",
       "            1-8       1-9      1-10  ...  3-9  3-10  3-11  3-12  3-13  3-14  \\\n",
       "0      0.666667  0.833333  0.833333  ...  0.6   0.8   0.8   0.8   0.8   0.6   \n",
       "1      0.666667  0.833333  0.833333  ...  0.8   0.8   0.8   0.6   0.8   0.8   \n",
       "2      0.666667  0.833333  1.000000  ...  0.8   0.8   0.8   0.8   0.8   0.8   \n",
       "3      0.500000  0.833333  0.833333  ...  0.6   0.6   0.8   0.8   0.8   0.8   \n",
       "4      1.000000  1.000000  1.000000  ...  0.4   0.4   1.0   0.6   0.8   1.0   \n",
       "...         ...       ...       ...  ...  ...   ...   ...   ...   ...   ...   \n",
       "12837  1.000000  0.666667  0.833333  ...  0.6   0.6   0.6   0.6   0.6   0.6   \n",
       "12838  0.666667  1.000000  1.000000  ...  0.8   0.8   0.8   0.8   0.8   0.6   \n",
       "12839  0.833333  1.000000  1.000000  ...  0.8   0.8   0.8   0.8   0.8   0.8   \n",
       "12840  0.500000  0.833333  1.000000  ...  1.0   1.0   0.8   0.8   1.0   0.8   \n",
       "12841  0.833333  0.833333  1.000000  ...  0.6   0.6   0.6   0.6   0.8   0.6   \n",
       "\n",
       "       3-15       4-1       4-2       4-3  \n",
       "0       0.4  0.833333  0.666667  0.833333  \n",
       "1       0.8  1.000000  1.000000  1.000000  \n",
       "2       0.8  1.000000  1.000000  1.000000  \n",
       "3       1.0  0.833333  0.833333  0.833333  \n",
       "4       1.0  1.000000  1.000000  0.666667  \n",
       "...     ...       ...       ...       ...  \n",
       "12837   0.6  0.666667  0.500000  0.500000  \n",
       "12838   0.6  1.000000  0.833333  0.833333  \n",
       "12839   0.8  0.833333  1.000000  1.000000  \n",
       "12840   0.8  0.666667  1.000000  0.833333  \n",
       "12841   0.8  1.000000  0.833333  1.000000  \n",
       "\n",
       "[12842 rows x 52 columns]"
      ]
     },
     "metadata": {},
     "output_type": "display_data"
    },
    {
     "data": {
      "text/html": [
       "<div>\n",
       "<style scoped>\n",
       "    .dataframe tbody tr th:only-of-type {\n",
       "        vertical-align: middle;\n",
       "    }\n",
       "\n",
       "    .dataframe tbody tr th {\n",
       "        vertical-align: top;\n",
       "    }\n",
       "\n",
       "    .dataframe thead th {\n",
       "        text-align: right;\n",
       "    }\n",
       "</style>\n",
       "<table border=\"1\" class=\"dataframe\">\n",
       "  <thead>\n",
       "    <tr style=\"text-align: right;\">\n",
       "      <th></th>\n",
       "      <th>average score</th>\n",
       "    </tr>\n",
       "  </thead>\n",
       "  <tbody>\n",
       "    <tr>\n",
       "      <th>0</th>\n",
       "      <td>49.174917</td>\n",
       "    </tr>\n",
       "    <tr>\n",
       "      <th>1</th>\n",
       "      <td>82.838284</td>\n",
       "    </tr>\n",
       "    <tr>\n",
       "      <th>2</th>\n",
       "      <td>84.488449</td>\n",
       "    </tr>\n",
       "    <tr>\n",
       "      <th>3</th>\n",
       "      <td>60.726073</td>\n",
       "    </tr>\n",
       "    <tr>\n",
       "      <th>4</th>\n",
       "      <td>66.996700</td>\n",
       "    </tr>\n",
       "    <tr>\n",
       "      <th>...</th>\n",
       "      <td>...</td>\n",
       "    </tr>\n",
       "    <tr>\n",
       "      <th>12837</th>\n",
       "      <td>36.633663</td>\n",
       "    </tr>\n",
       "    <tr>\n",
       "      <th>12838</th>\n",
       "      <td>81.188119</td>\n",
       "    </tr>\n",
       "    <tr>\n",
       "      <th>12839</th>\n",
       "      <td>60.066007</td>\n",
       "    </tr>\n",
       "    <tr>\n",
       "      <th>12840</th>\n",
       "      <td>59.405941</td>\n",
       "    </tr>\n",
       "    <tr>\n",
       "      <th>12841</th>\n",
       "      <td>78.547855</td>\n",
       "    </tr>\n",
       "  </tbody>\n",
       "</table>\n",
       "<p>12842 rows × 1 columns</p>\n",
       "</div>"
      ],
      "text/plain": [
       "       average score\n",
       "0          49.174917\n",
       "1          82.838284\n",
       "2          84.488449\n",
       "3          60.726073\n",
       "4          66.996700\n",
       "...              ...\n",
       "12837      36.633663\n",
       "12838      81.188119\n",
       "12839      60.066007\n",
       "12840      59.405941\n",
       "12841      78.547855\n",
       "\n",
       "[12842 rows x 1 columns]"
      ]
     },
     "metadata": {},
     "output_type": "display_data"
    }
   ],
   "source": [
    "#load CSV files\n",
    "path = r\"./DM_data\"\n",
    "csvs = os.listdir(path)\n",
    "\n",
    "#Setting features name\n",
    "col1 = [f\"1-{i+1}\" for i in range(30)]\n",
    "col2 = [f\"2-{j+1}\" for j in range(4)]\n",
    "col3 = [f\"3-{k+1}\" for k in range(15)]\n",
    "col4 = [f\"4-{m+1}\" for m in range(3)]\n",
    "lab = [f\"label-{l+1}\" for l in range(6)]\n",
    "columns = col1 + col2 + col3 + col4 + lab\n",
    "X_columns = col1 + col2 + col3 + col4\n",
    "drop_features = [\"SID\",\"SCHID\",\"GENDER\"]\n",
    "\n",
    "\"\"\"\n",
    "features 이름을 헷갈리지 않게 정해줍니다. 데이터의 features는 크게 4가지 카테고리로 나뉘는데,\n",
    "feature 이름을 \"큰 카테고리-feature번호\"로 설정했습니다.\n",
    "그리고 ID를 나타내는 3개의 feature들은 drop시켰습니다.\n",
    "\"\"\"\n",
    "\n",
    "#load CSV to DataFrame\n",
    "df = [pd.read_csv(os.path.join(path, csvs[d])) for d in range(2)]\n",
    "\n",
    "for d in df:\n",
    "    d.drop(drop_features, axis=1, inplace=True)\n",
    "    d.columns = columns\n",
    "\n",
    "#concatenate df 1,2\n",
    "total_df = pd.concat([df[0], df[1]])\n",
    "missing = total_df[total_df[\"1-1\"]==-1].index\n",
    "total_df.drop(missing, inplace=True)\n",
    "\n",
    "\"\"\"\n",
    "features가 다른 3학년을 제외한 1,2학년 데이터를 합쳤습니다.\n",
    "그리고 missing data를 날려버렸습니다.\n",
    "\"\"\"\n",
    "\n",
    "#Make Minmax scaler\n",
    "scaler = MinMaxScaler()\n",
    "\n",
    "total_df = pd.DataFrame(scaler.fit_transform(total_df), columns=columns)\n",
    "X_data = total_df.loc[:, :\"4-3\"]\n",
    "Y_data = total_df.loc[:,\"label-1\":\"label-3\"]\n",
    "\n",
    "total_score = Y_data.sum(axis=1) * 100 / 3\n",
    "Y_data = pd.DataFrame(np.array(total_score).reshape(-1, 1), columns=[\"average score\"])\n",
    "\n",
    "\"\"\"\n",
    "데이터를 minmax scaler로 normalization하고, 국어, 영어, 수학 3개로 되어있는 라벨을\n",
    "국영수 평균 1개로 만들었습니다. 저희가 알고싶은 것은 국어, 영어, 수학 개별 성적이 아닌\n",
    "전체 평균성적입니다.\n",
    "\"\"\"\n",
    "\n",
    "display(X_data)\n",
    "display(Y_data)\n",
    "\n",
    "#train test data split | train : test = 0.8 : 0.2\n",
    "X_train, X_test, y_train, y_test = train_test_split(X_data, Y_data, test_size=0.2, random_state=26) "
   ]
  },
  {
   "cell_type": "code",
   "execution_count": 3,
   "id": "22682dd8",
   "metadata": {},
   "outputs": [
    {
     "name": "stdout",
     "output_type": "stream",
     "text": [
      "LR train RMSE : 15.79466627842823\n",
      "LR test RMSE : 16.120879011856715\n"
     ]
    },
    {
     "data": {
      "text/plain": [
       "'\\nlabel이 continuous하기 때문에 제일 기초적인 linear regression모델을 써봤습니다.\\nRMSE값이 가장 직관적(단위가 같음)이기 때문에 이후 나오는 모든 loss는 RMSE를 썼습니다.\\ntrain loss와 test loss가 거의 같기 때문에 overfitting되지 않고 잘 나왔습니다.\\n'"
      ]
     },
     "execution_count": 3,
     "metadata": {},
     "output_type": "execute_result"
    }
   ],
   "source": [
    "#Linear Regression\n",
    "lr = LinearRegression()\n",
    "lr.fit(X_train, y_train)\n",
    "y_train_hat = lr.predict(X_train)\n",
    "y_test_hat = lr.predict(X_test)\n",
    "\n",
    "print(f\"LR train RMSE : {MSE(y_train, y_train_hat) ** 0.5}\")\n",
    "print(f\"LR test RMSE : {MSE(y_test, y_test_hat) ** 0.5}\")\n",
    "\n",
    "\"\"\"\n",
    "label이 continuous하기 때문에 제일 기초적인 linear regression모델을 써봤습니다.\n",
    "RMSE값이 가장 직관적(단위가 같음)이기 때문에 이후 나오는 모든 loss는 RMSE를 썼습니다.\n",
    "train loss와 test loss가 거의 같기 때문에 overfitting되지 않고 잘 나왔습니다.\n",
    "\"\"\""
   ]
  },
  {
   "cell_type": "code",
   "execution_count": 4,
   "id": "22fd908a",
   "metadata": {
    "scrolled": true
   },
   "outputs": [
    {
     "name": "stderr",
     "output_type": "stream",
     "text": [
      "2022-05-24 22:32:14.291515: I tensorflow/compiler/jit/xla_cpu_device.cc:41] Not creating XLA devices, tf_xla_enable_xla_devices not set\n",
      "2022-05-24 22:32:14.292901: I tensorflow/stream_executor/platform/default/dso_loader.cc:49] Successfully opened dynamic library libcuda.so.1\n",
      "2022-05-24 22:32:14.466174: I tensorflow/core/common_runtime/gpu/gpu_device.cc:1720] Found device 0 with properties: \n",
      "pciBusID: 0000:01:00.0 name: NVIDIA A100-SXM4-40GB MIG 7g.40gb computeCapability: 8.0\n",
      "coreClock: 1.41GHz coreCount: 98 deviceMemorySize: 39.59GiB deviceMemoryBandwidth: 1.41TiB/s\n",
      "2022-05-24 22:32:14.466217: I tensorflow/stream_executor/platform/default/dso_loader.cc:49] Successfully opened dynamic library libcudart.so.11.0\n",
      "2022-05-24 22:32:14.468002: I tensorflow/stream_executor/platform/default/dso_loader.cc:49] Successfully opened dynamic library libcublas.so.11\n",
      "2022-05-24 22:32:14.468037: I tensorflow/stream_executor/platform/default/dso_loader.cc:49] Successfully opened dynamic library libcublasLt.so.11\n",
      "2022-05-24 22:32:14.468820: I tensorflow/stream_executor/platform/default/dso_loader.cc:49] Successfully opened dynamic library libcufft.so.10\n",
      "2022-05-24 22:32:14.469052: I tensorflow/stream_executor/platform/default/dso_loader.cc:49] Successfully opened dynamic library libcurand.so.10\n",
      "2022-05-24 22:32:14.470653: I tensorflow/stream_executor/platform/default/dso_loader.cc:49] Successfully opened dynamic library libcusolver.so.10\n",
      "2022-05-24 22:32:14.471387: I tensorflow/stream_executor/platform/default/dso_loader.cc:49] Successfully opened dynamic library libcusparse.so.11\n",
      "2022-05-24 22:32:14.471520: I tensorflow/stream_executor/platform/default/dso_loader.cc:49] Successfully opened dynamic library libcudnn.so.8\n",
      "2022-05-24 22:32:14.475021: I tensorflow/core/common_runtime/gpu/gpu_device.cc:1862] Adding visible gpu devices: 0\n",
      "2022-05-24 22:32:14.479481: I tensorflow/compiler/jit/xla_gpu_device.cc:99] Not creating XLA devices, tf_xla_enable_xla_devices not set\n",
      "2022-05-24 22:32:14.481260: I tensorflow/core/common_runtime/gpu/gpu_device.cc:1720] Found device 0 with properties: \n",
      "pciBusID: 0000:01:00.0 name: NVIDIA A100-SXM4-40GB MIG 7g.40gb computeCapability: 8.0\n",
      "coreClock: 1.41GHz coreCount: 98 deviceMemorySize: 39.59GiB deviceMemoryBandwidth: 1.41TiB/s\n",
      "2022-05-24 22:32:14.481288: I tensorflow/stream_executor/platform/default/dso_loader.cc:49] Successfully opened dynamic library libcudart.so.11.0\n",
      "2022-05-24 22:32:14.481304: I tensorflow/stream_executor/platform/default/dso_loader.cc:49] Successfully opened dynamic library libcublas.so.11\n",
      "2022-05-24 22:32:14.481318: I tensorflow/stream_executor/platform/default/dso_loader.cc:49] Successfully opened dynamic library libcublasLt.so.11\n",
      "2022-05-24 22:32:14.481331: I tensorflow/stream_executor/platform/default/dso_loader.cc:49] Successfully opened dynamic library libcufft.so.10\n",
      "2022-05-24 22:32:14.481344: I tensorflow/stream_executor/platform/default/dso_loader.cc:49] Successfully opened dynamic library libcurand.so.10\n",
      "2022-05-24 22:32:14.481356: I tensorflow/stream_executor/platform/default/dso_loader.cc:49] Successfully opened dynamic library libcusolver.so.10\n",
      "2022-05-24 22:32:14.481369: I tensorflow/stream_executor/platform/default/dso_loader.cc:49] Successfully opened dynamic library libcusparse.so.11\n",
      "2022-05-24 22:32:14.481381: I tensorflow/stream_executor/platform/default/dso_loader.cc:49] Successfully opened dynamic library libcudnn.so.8\n",
      "2022-05-24 22:32:14.484781: I tensorflow/core/common_runtime/gpu/gpu_device.cc:1862] Adding visible gpu devices: 0\n",
      "2022-05-24 22:32:14.484837: I tensorflow/stream_executor/platform/default/dso_loader.cc:49] Successfully opened dynamic library libcudart.so.11.0\n",
      "2022-05-24 22:32:14.881173: I tensorflow/core/common_runtime/gpu/gpu_device.cc:1261] Device interconnect StreamExecutor with strength 1 edge matrix:\n",
      "2022-05-24 22:32:14.881213: I tensorflow/core/common_runtime/gpu/gpu_device.cc:1267]      0 \n",
      "2022-05-24 22:32:14.881219: I tensorflow/core/common_runtime/gpu/gpu_device.cc:1280] 0:   N \n",
      "2022-05-24 22:32:14.886480: I tensorflow/core/common_runtime/gpu/gpu_device.cc:1406] Created TensorFlow device (/job:localhost/replica:0/task:0/device:GPU:0 with 37603 MB memory) -> physical GPU (device: 0, name: NVIDIA A100-SXM4-40GB MIG 7g.40gb, pci bus id: 0000:01:00.0, compute capability: 8.0)\n",
      "2022-05-24 22:32:15.256530: I tensorflow/compiler/mlir/mlir_graph_optimization_pass.cc:116] None of the MLIR optimization passes are enabled (registered 2)\n",
      "2022-05-24 22:32:15.259089: I tensorflow/core/platform/profile_utils/cpu_utils.cc:112] CPU Frequency: 2245780000 Hz\n",
      "2022-05-24 22:32:15.624983: I tensorflow/stream_executor/platform/default/dso_loader.cc:49] Successfully opened dynamic library libcublas.so.11\n",
      "2022-05-24 22:32:16.123638: I tensorflow/stream_executor/platform/default/dso_loader.cc:49] Successfully opened dynamic library libcublasLt.so.11\n",
      "2022-05-24 22:32:16.126029: I tensorflow/stream_executor/cuda/cuda_blas.cc:1838] TensorFloat-32 will be used for the matrix multiplication. This will only be logged once.\n"
     ]
    },
    {
     "name": "stdout",
     "output_type": "stream",
     "text": [
      "RMSE : 16.422706110762686\n"
     ]
    },
    {
     "data": {
      "text/plain": [
       "'\\n다른 종류의 머신러닝 알고리즘보다 DNN의 성능이 좋을 것으로 예상해 학습을 시켰습니다.\\n하지만 다른 알고리즘과 거의 비슷한 결과가 나온 것을 볼 수 있습니다.\\n\\nhidden layer는 3층, activation은 ReLU를 썼고, optimizer는 Adam을 썼습니다.\\ninput layer의 node 수는 당연히 feature개수입니다.\\nlayer의 수를 늘려도보고, BatchNormalization layer도 써봤으나 오히려 RMSE값이 증가하였습니다.\\n'"
      ]
     },
     "execution_count": 4,
     "metadata": {},
     "output_type": "execute_result"
    }
   ],
   "source": [
    "#DNN\n",
    "def create_model(input_size):\n",
    "    modelf = Sequential()\n",
    "    modelf.add(Dense(64, input_shape = [input_size], activation='relu'))\n",
    "    modelf.add(Dense(32, activation='relu'))\n",
    "    modelf.add(Dense(32, activation='relu'))\n",
    "    modelf.add(Dense(16, activation='relu'))\n",
    "    modelf.add(Dense(1))\n",
    "\n",
    "    #modelf.summary()\n",
    "    modelf.compile(optimizer=Adam(learning_rate=0.1),\n",
    "                  loss='mse',\n",
    "                  metrics=['mse'])\n",
    "    return modelf\n",
    "\n",
    "model = create_model(52)\n",
    "history = model.fit(X_train, y_train, batch_size=128, epochs=30, verbose=False)\n",
    "pre = model.predict(X_test)\n",
    "print(f\"RMSE : {MSE(pre, y_test)**0.5}\")\n",
    "\n",
    "\"\"\"\n",
    "다른 종류의 머신러닝 알고리즘보다 DNN의 성능이 좋을 것으로 예상해 학습을 시켰습니다.\n",
    "하지만 다른 알고리즘과 거의 비슷한 결과가 나온 것을 볼 수 있습니다.\n",
    "\n",
    "hidden layer는 3층, activation은 ReLU를 썼고, optimizer는 Adam을 썼습니다.\n",
    "input layer의 node 수는 당연히 feature개수입니다.\n",
    "layer의 수를 늘려도보고, BatchNormalization layer도 써봤으나 오히려 RMSE값이 증가하였습니다.\n",
    "\"\"\""
   ]
  },
  {
   "cell_type": "markdown",
   "id": "f7117b4a",
   "metadata": {},
   "source": [
    "DT"
   ]
  },
  {
   "cell_type": "code",
   "execution_count": 5,
   "id": "0a959b28",
   "metadata": {},
   "outputs": [
    {
     "name": "stdout",
     "output_type": "stream",
     "text": [
      "DT train RMSE : 15.318522266276213\n",
      "DT test RMSE : 15.953779597507642\n"
     ]
    },
    {
     "data": {
      "text/plain": [
       "'\\nDecision tree에는 여러가지 하이퍼파라미터들이 있습니다. 맨 처음 아무런 설정없이 돌렸을 때,\\noverfitting이 일어나여, max_depth 하이퍼 파라미터를 설정하였습니다.\\nDT도 나머지 두 모델과 마찬가지로 RMSE : 15정도의 성능을 보였습니다.\\n'"
      ]
     },
     "execution_count": 5,
     "metadata": {},
     "output_type": "execute_result"
    }
   ],
   "source": [
    "#Decision Tree\n",
    "DT = DecisionTreeRegressor(random_state=26, max_depth=6)\n",
    "DT.fit(X_train, y_train)\n",
    "\n",
    "y_train_hat_DT = DT.predict(X_train)\n",
    "y_test_hat_DT = DT.predict(X_test)\n",
    "print(f\"DT train RMSE : {MSE(y_train, y_train_hat_DT) ** 0.5}\")\n",
    "print(f\"DT test RMSE : {MSE(y_test, y_test_hat_DT) ** 0.5}\")\n",
    "\n",
    "DT_FI = {\"FeatureImportance\":DT.feature_importances_}\n",
    "\n",
    "\"\"\"\n",
    "Decision tree에는 여러가지 하이퍼파라미터들이 있습니다. 맨 처음 아무런 설정없이 돌렸을 때,\n",
    "overfitting이 일어나여, max_depth 하이퍼 파라미터를 설정하였습니다.\n",
    "DT도 나머지 두 모델과 마찬가지로 RMSE : 15정도의 성능을 보였습니다.\n",
    "\"\"\""
   ]
  },
  {
   "cell_type": "code",
   "execution_count": 6,
   "id": "5b521305",
   "metadata": {
    "scrolled": true
   },
   "outputs": [
    {
     "data": {
      "text/plain": [
       "'\\nDT는 다른 모델과는 다르게 feature importance를 구할 수 있습니다. \\n각 feature importance에 100을 곱하여 각 feature가 label에 얼만큼 기여하는지\\n바로 알 수 있게 그래프로 만들었습니다. \\n기여도가 0.5%이하는 drop시키고 중요한 feature들만 남겼습니다.\\n'"
      ]
     },
     "execution_count": 6,
     "metadata": {},
     "output_type": "execute_result"
    }
   ],
   "source": [
    "#embedded method - feature selection(Decision Tree)\n",
    "FeatureImportance_DT = pd.DataFrame(DT_FI,index=X_columns)\n",
    "criteria = FeatureImportance_DT['FeatureImportance'] <= 0.005\n",
    "drop_index = FeatureImportance_DT[criteria].index\n",
    "FeatureImportance_DT.drop(drop_index, inplace=True)\n",
    "FeatureImportance_DT *= 100\n",
    "FeatureImportance_DT.sort_values('FeatureImportance', ascending=False, inplace=True)\n",
    "\n",
    "per = FeatureImportance_DT.sum()\n",
    "\n",
    "\"\"\"\n",
    "DT는 다른 모델과는 다르게 feature importance를 구할 수 있습니다. \n",
    "각 feature importance에 100을 곱하여 각 feature가 label에 얼만큼 기여하는지\n",
    "바로 알 수 있게 그래프로 만들었습니다. \n",
    "기여도가 0.5%이하는 drop시키고 중요한 feature들만 남겼습니다.\n",
    "\"\"\""
   ]
  },
  {
   "cell_type": "code",
   "execution_count": 7,
   "id": "2e44f9a9",
   "metadata": {
    "scrolled": true
   },
   "outputs": [
    {
     "data": {
      "text/plain": [
       "'\\nDT에서 뽑은 feature importance\\n'"
      ]
     },
     "execution_count": 7,
     "metadata": {},
     "output_type": "execute_result"
    },
    {
     "data": {
      "image/png": "[encoded data removed]",
      "text/plain": [
       "<Figure size 720x432 with 1 Axes>"
      ]
     },
     "metadata": {
      "needs_background": "light"
     },
     "output_type": "display_data"
    }
   ],
   "source": [
    "#RF feature's importance graph\n",
    "fig, ax = plt.subplots(figsize=(10, 6))\n",
    "\n",
    "g = sns.barplot(x=FeatureImportance_DT.index, y='FeatureImportance',data=FeatureImportance_DT, ax=ax, \n",
    "               palette=sns.color_palette(\"Blues_d\", n_colors=13, desat=1))\n",
    "\n",
    "title = \"Feature's Importance\"\n",
    "ax.text(2.8, 90, title, horizontalalignment='left', color='black',fontsize=15,fontweight='bold') \n",
    "    \n",
    "ax.set_ylim(0, 100)\n",
    "\n",
    "ax.set_xticklabels(ax.get_xticklabels(),rotation=0)\n",
    "plt.tight_layout;\n",
    "\n",
    "\"\"\"\n",
    "DT에서 뽑은 feature importance\n",
    "\"\"\""
   ]
  },
  {
   "cell_type": "markdown",
   "id": "31102675",
   "metadata": {},
   "source": [
    "디시전트리에서는 변수중요도가\n",
    "4-2,4-3,1-27,1-21,1-24순으로 높다\n",
    "조건을 걸어 4가지 변수를 시각화하게 되었습니다."
   ]
  },
  {
   "cell_type": "markdown",
   "id": "129df0b8",
   "metadata": {},
   "source": [
    "RF"
   ]
  },
  {
   "cell_type": "code",
   "execution_count": 8,
   "id": "4bd5b749",
   "metadata": {
    "scrolled": true
   },
   "outputs": [
    {
     "name": "stderr",
     "output_type": "stream",
     "text": [
      "/home/visonlab01/anaconda3/envs/jeongyoon/lib/python3.7/site-packages/ipykernel_launcher.py:3: DataConversionWarning: A column-vector y was passed when a 1d array was expected. Please change the shape of y to (n_samples,), for example using ravel().\n",
      "  This is separate from the ipykernel package so we can avoid doing imports until\n"
     ]
    },
    {
     "name": "stdout",
     "output_type": "stream",
     "text": [
      "RF train RMSE : 14.868780597800484\n",
      "RF test RMSE : 15.54310967582693\n"
     ]
    },
    {
     "data": {
      "text/plain": [
       "'\\nRF도 아무 하이퍼파라미터 설정을 안했더니 overfitting이 일어났습니다. 그래서 min_samples_split\\n(한 잎당 최소 데이터 4개), max_depth를 하이퍼 파라미터로 설정하였습니다.\\n성능은 앞서 나온 두 모델과 거의 다름이 없었습니다.\\nRF도 DT와 마찬가지로 feature importance를 뽑을 수 있습니다.\\n'"
      ]
     },
     "execution_count": 8,
     "metadata": {},
     "output_type": "execute_result"
    }
   ],
   "source": [
    "#Random Forest\n",
    "RF = RandomForestRegressor(random_state=26, min_samples_split=4, max_depth=6)\n",
    "RF.fit(X_train, y_train)\n",
    "\n",
    "train_predict = RF.predict(X_train)\n",
    "rf_run_predict = RF.predict(X_test)\n",
    "print(f\"RF train RMSE : {MSE(train_predict, y_train) ** 0.5}\")\n",
    "print(f\"RF test RMSE : {MSE(rf_run_predict, y_test) ** 0.5}\")\n",
    "\n",
    "RF_FI = {'FeatureImportance':RF.feature_importances_}\n",
    "         \n",
    "\"\"\"\n",
    "RF도 아무 하이퍼파라미터 설정을 안했더니 overfitting이 일어났습니다. 그래서 min_samples_split\n",
    "(한 잎당 최소 데이터 4개), max_depth를 하이퍼 파라미터로 설정하였습니다.\n",
    "성능은 앞서 나온 두 모델과 거의 다름이 없었습니다.\n",
    "RF도 DT와 마찬가지로 feature importance를 뽑을 수 있습니다.\n",
    "\"\"\""
   ]
  },
  {
   "cell_type": "code",
   "execution_count": 9,
   "id": "de117af5",
   "metadata": {
    "scrolled": true
   },
   "outputs": [
    {
     "data": {
      "text/plain": [
       "'\\n기여도가 2.5%이하는 drop시키고 중요한 feature들만 남겼습니다.\\n'"
      ]
     },
     "execution_count": 9,
     "metadata": {},
     "output_type": "execute_result"
    }
   ],
   "source": [
    "#embedded method - feature selection(Random Forest)\n",
    "FeatureImportance_RF = pd.DataFrame(RF_FI, index=X_columns)\n",
    "criteria = FeatureImportance_RF['FeatureImportance'] <= 0.025\n",
    "drop_index = FeatureImportance_RF[criteria].index\n",
    "FeatureImportance_RF.drop(drop_index, inplace=True)\n",
    "FeatureImportance_RF *= 100\n",
    "FeatureImportance_RF.sort_values('FeatureImportance', ascending=False, inplace=True)\n",
    "\n",
    "per = FeatureImportance_RF.sum()\n",
    "\n",
    "\"\"\"\n",
    "기여도가 2.5%이하는 drop시키고 중요한 feature들만 남겼습니다.\n",
    "\"\"\""
   ]
  },
  {
   "cell_type": "code",
   "execution_count": 10,
   "id": "5bafa873",
   "metadata": {
    "scrolled": true
   },
   "outputs": [
    {
     "data": {
      "text/plain": [
       "'\\n랜덤 포레스트에서는 변수 중요도가 4-2,4-3,1-27,1-24순으로 높게 나타났습니다.\\n조건을 걸어 4가지 변수를 시각화했습니다.\\n'"
      ]
     },
     "execution_count": 10,
     "metadata": {},
     "output_type": "execute_result"
    },
    {
     "data": {
      "image/png": "[encoded data removed]",
      "text/plain": [
       "<Figure size 720x432 with 1 Axes>"
      ]
     },
     "metadata": {
      "needs_background": "light"
     },
     "output_type": "display_data"
    }
   ],
   "source": [
    "#Filter method feature's importance graph\n",
    "fig, ax = plt.subplots(figsize=(10, 6))\n",
    "\n",
    "g = sns.barplot(x=FeatureImportance_RF.index, y='FeatureImportance',data=FeatureImportance_RF, ax=ax, \n",
    "               palette=sns.color_palette(\"Blues_d\", n_colors=13, desat=1))\n",
    "\n",
    "title = \"Feature's Importance(%)\"\n",
    "ax.text(0.8, 90, title, horizontalalignment='left', color='black',fontsize=15,fontweight='bold') \n",
    "    \n",
    "ax.set_ylim(0, 100)\n",
    "\n",
    "ax.set_xticklabels(ax.get_xticklabels(),rotation=0)\n",
    "plt.tight_layout;\n",
    "\n",
    "\"\"\"\n",
    "랜덤 포레스트에서는 변수 중요도가 4-2,4-3,1-27,1-24순으로 높게 나타났습니다.\n",
    "조건을 걸어 4가지 변수를 시각화했습니다.\n",
    "\"\"\""
   ]
  },
  {
   "cell_type": "markdown",
   "id": "a2095ba2",
   "metadata": {},
   "source": [
    "변수 선택 및 추출"
   ]
  },
  {
   "cell_type": "code",
   "execution_count": 11,
   "id": "6abd93e9",
   "metadata": {},
   "outputs": [
    {
     "name": "stderr",
     "output_type": "stream",
     "text": [
      "/home/visonlab01/anaconda3/envs/jeongyoon/lib/python3.7/site-packages/sklearn/utils/validation.py:993: DataConversionWarning: A column-vector y was passed when a 1d array was expected. Please change the shape of y to (n_samples, ), for example using ravel().\n",
      "  y = column_or_1d(y, warn=True)\n"
     ]
    },
    {
     "data": {
      "text/html": [
       "<div>\n",
       "<style scoped>\n",
       "    .dataframe tbody tr th:only-of-type {\n",
       "        vertical-align: middle;\n",
       "    }\n",
       "\n",
       "    .dataframe tbody tr th {\n",
       "        vertical-align: top;\n",
       "    }\n",
       "\n",
       "    .dataframe thead th {\n",
       "        text-align: right;\n",
       "    }\n",
       "</style>\n",
       "<table border=\"1\" class=\"dataframe\">\n",
       "  <thead>\n",
       "    <tr style=\"text-align: right;\">\n",
       "      <th></th>\n",
       "      <th>FeatureSelect</th>\n",
       "    </tr>\n",
       "  </thead>\n",
       "  <tbody>\n",
       "    <tr>\n",
       "      <th>4-2</th>\n",
       "      <td>9.915591</td>\n",
       "    </tr>\n",
       "    <tr>\n",
       "      <th>4-3</th>\n",
       "      <td>8.463790</td>\n",
       "    </tr>\n",
       "    <tr>\n",
       "      <th>1-24</th>\n",
       "      <td>6.475094</td>\n",
       "    </tr>\n",
       "    <tr>\n",
       "      <th>1-27</th>\n",
       "      <td>6.146999</td>\n",
       "    </tr>\n",
       "    <tr>\n",
       "      <th>3-14</th>\n",
       "      <td>4.736543</td>\n",
       "    </tr>\n",
       "    <tr>\n",
       "      <th>3-11</th>\n",
       "      <td>4.560603</td>\n",
       "    </tr>\n",
       "    <tr>\n",
       "      <th>3-12</th>\n",
       "      <td>4.180697</td>\n",
       "    </tr>\n",
       "    <tr>\n",
       "      <th>3-9</th>\n",
       "      <td>4.165344</td>\n",
       "    </tr>\n",
       "    <tr>\n",
       "      <th>3-13</th>\n",
       "      <td>4.027466</td>\n",
       "    </tr>\n",
       "    <tr>\n",
       "      <th>3-15</th>\n",
       "      <td>3.865783</td>\n",
       "    </tr>\n",
       "    <tr>\n",
       "      <th>3-6</th>\n",
       "      <td>3.813258</td>\n",
       "    </tr>\n",
       "    <tr>\n",
       "      <th>3-8</th>\n",
       "      <td>3.747502</td>\n",
       "    </tr>\n",
       "    <tr>\n",
       "      <th>1-26</th>\n",
       "      <td>3.621253</td>\n",
       "    </tr>\n",
       "    <tr>\n",
       "      <th>4-1</th>\n",
       "      <td>3.528423</td>\n",
       "    </tr>\n",
       "    <tr>\n",
       "      <th>3-7</th>\n",
       "      <td>3.443167</td>\n",
       "    </tr>\n",
       "  </tbody>\n",
       "</table>\n",
       "</div>"
      ],
      "text/plain": [
       "      FeatureSelect\n",
       "4-2        9.915591\n",
       "4-3        8.463790\n",
       "1-24       6.475094\n",
       "1-27       6.146999\n",
       "3-14       4.736543\n",
       "3-11       4.560603\n",
       "3-12       4.180697\n",
       "3-9        4.165344\n",
       "3-13       4.027466\n",
       "3-15       3.865783\n",
       "3-6        3.813258\n",
       "3-8        3.747502\n",
       "1-26       3.621253\n",
       "4-1        3.528423\n",
       "3-7        3.443167"
      ]
     },
     "metadata": {},
     "output_type": "display_data"
    },
    {
     "data": {
      "text/plain": [
       "'\\n머신러닝 알고리즘에 내장된 feature importance selection이 아닌 filter method로 \\nfeature importance를 뽑아봤습니다. 역시나 기여도가 3%이하인 feature들은 drop시켰습니다.\\n'"
      ]
     },
     "execution_count": 11,
     "metadata": {},
     "output_type": "execute_result"
    }
   ],
   "source": [
    "#filter method - feature selection\n",
    "select = SelectKBest(f_regression, k=20)\n",
    "select.fit(X_train, y_train)\n",
    "total = select.scores_.sum()\n",
    "\n",
    "FS = {'FeatureSelect' : select.scores_ / total}\n",
    "FeatureSelect = pd.DataFrame(FS, index=X_columns)\n",
    "criteria = FeatureSelect['FeatureSelect'] <= 0.03\n",
    "drop_index = FeatureSelect[criteria].index\n",
    "FeatureSelect.drop(drop_index, inplace=True)\n",
    "FeatureSelect.sort_values('FeatureSelect', ascending=False, inplace=True)\n",
    "FeatureSelect *= 100\n",
    "display(FeatureSelect)\n",
    "\n",
    "\"\"\"\n",
    "머신러닝 알고리즘에 내장된 feature importance selection이 아닌 filter method로 \n",
    "feature importance를 뽑아봤습니다. 역시나 기여도가 3%이하인 feature들은 drop시켰습니다.\n",
    "\"\"\""
   ]
  },
  {
   "cell_type": "code",
   "execution_count": 12,
   "id": "91a07f05",
   "metadata": {},
   "outputs": [
    {
     "data": {
      "image/png": "[encoded data removed]",
      "text/plain": [
       "<Figure size 720x432 with 1 Axes>"
      ]
     },
     "metadata": {
      "needs_background": "light"
     },
     "output_type": "display_data"
    }
   ],
   "source": [
    "#filter method feature's importance graph\n",
    "fig, ax = plt.subplots(figsize=(10, 6))\n",
    "\n",
    "g = sns.barplot(x=FeatureSelect.index, y='FeatureSelect',data=FeatureSelect, ax=ax, \n",
    "               palette=sns.color_palette(\"Blues_d\", n_colors=13, desat=1))\n",
    "\n",
    "title = \"Feature's Importance(%)\"\n",
    "ax.text(4.5, 27, title, horizontalalignment='left', color='black',fontsize=15,fontweight='bold') \n",
    "    \n",
    "ax.set_ylim(0, 30)\n",
    "\n",
    "ax.set_xticklabels(ax.get_xticklabels(),rotation=0)\n",
    "plt.tight_layout;"
   ]
  },
  {
   "cell_type": "markdown",
   "id": "6ecb5821",
   "metadata": {},
   "source": [
    "리그레션이기 때문에 f_regression을 활용하게 되었습니다. \n",
    "20개로 하였고 \n",
    "필터 메소드에서 20개중 15개를 시각화하게 되었습니다."
   ]
  },
  {
   "cell_type": "code",
   "execution_count": 13,
   "id": "6f4a9dc2",
   "metadata": {},
   "outputs": [
    {
     "name": "stderr",
     "output_type": "stream",
     "text": [
      "/home/visonlab01/anaconda3/envs/jeongyoon/lib/python3.7/site-packages/ipykernel_launcher.py:11: DataConversionWarning: A column-vector y was passed when a 1d array was expected. Please change the shape of y to (n_samples,), for example using ravel().\n",
      "  # This is added back by InteractiveShellApp.init_path()\n"
     ]
    },
    {
     "name": "stdout",
     "output_type": "stream",
     "text": [
      "LR2 train RMSE : 16.418295434576386\n",
      "LR2 test RMSE : 16.565564502524893\n",
      "\n",
      "DT2 train RMSE : 15.48959148108335\n",
      "DT2 test RMSE : 16.076052038952252\n",
      "\n",
      "RF2 train RMSE : 15.219502100679676\n",
      "RF2 test RMSE : 15.726987168215796\n",
      "\n"
     ]
    },
    {
     "data": {
      "text/plain": [
       "'\\n52개의 속성이 너무 많은 것 같아 dimension reduction을 위해 filter method로 feature를 뽑고,\\nfilter method로 뽑힌 중요한 속성(20개)으로 위의 모델들을 다시 학습시켰습니다. \\n하지만 눈에 띄는 큰 차이는 없었습니다.\\n'"
      ]
     },
     "execution_count": 13,
     "metadata": {},
     "output_type": "execute_result"
    }
   ],
   "source": [
    "#Retrain machine learning models with selected feautures\n",
    "X_train_selected = select.transform(X_train)\n",
    "X_test_selected = select.transform(X_test)\n",
    "\n",
    "LR2 = LinearRegression()\n",
    "DT2 = DecisionTreeRegressor(random_state=26, max_depth=6)\n",
    "RF2 = RandomForestRegressor(random_state=26, min_samples_split=4, max_depth=6)\n",
    "\n",
    "LR2.fit(X_train_selected, y_train)\n",
    "DT2.fit(X_train_selected, y_train)\n",
    "RF2.fit(X_train_selected, y_train)\n",
    "\n",
    "#Linear Regression\n",
    "y_train_hat_LR2 = LR2.predict(X_train_selected)\n",
    "y_test_hat_LR2 = LR2.predict(X_test_selected)\n",
    "\n",
    "#Decision Tree\n",
    "y_train_hat_DT2 = DT2.predict(X_train_selected)\n",
    "y_test_hat_DT2 = DT2.predict(X_test_selected)\n",
    "\n",
    "#Random Forest\n",
    "y_train_hat_RF2 = RF2.predict(X_train_selected)\n",
    "y_test_hat_RF2 = RF2.predict(X_test_selected)\n",
    "\n",
    "print(f\"LR2 train RMSE : {MSE(y_train, y_train_hat_LR2) ** 0.5}\")\n",
    "print(f\"LR2 test RMSE : {MSE(y_test, y_test_hat_LR2) ** 0.5}\", end='\\n\\n')\n",
    "\n",
    "print(f\"DT2 train RMSE : {MSE(y_train, y_train_hat_DT2) ** 0.5}\")\n",
    "print(f\"DT2 test RMSE : {MSE(y_test, y_test_hat_DT2) ** 0.5}\", end='\\n\\n')\n",
    "\n",
    "print(f\"RF2 train RMSE : {MSE(y_train, y_train_hat_RF2) ** 0.5}\") \n",
    "print(f\"RF2 test RMSE : {MSE(y_test, y_test_hat_RF2) ** 0.5}\", end='\\n\\n')\n",
    "\n",
    "\"\"\"\n",
    "52개의 속성이 너무 많은 것 같아 dimension reduction을 위해 filter method로 feature를 뽑고,\n",
    "filter method로 뽑힌 중요한 속성(20개)으로 위의 모델들을 다시 학습시켰습니다. \n",
    "하지만 눈에 띄는 큰 차이는 없었습니다.\n",
    "\"\"\""
   ]
  },
  {
   "cell_type": "code",
   "execution_count": 14,
   "id": "c21342f0",
   "metadata": {},
   "outputs": [
    {
     "data": {
      "text/plain": [
       "'\\nPCA를 이용해 30개의 feature들을 추출했습니다.\\n'"
      ]
     },
     "execution_count": 14,
     "metadata": {},
     "output_type": "execute_result"
    }
   ],
   "source": [
    "#feature extraction - PCA\n",
    "pca = PCA(n_components=30)\n",
    "pca.fit(X_train)\n",
    "\n",
    "X_train_pca = pca.transform(X_train)\n",
    "X_test_pca = pca.transform(X_test)\n",
    "\n",
    "\"\"\"\n",
    "PCA를 이용해 30개의 feature들을 추출했습니다.\n",
    "\"\"\""
   ]
  },
  {
   "cell_type": "code",
   "execution_count": 15,
   "id": "2ec415b4",
   "metadata": {},
   "outputs": [
    {
     "name": "stderr",
     "output_type": "stream",
     "text": [
      "/home/visonlab01/anaconda3/envs/jeongyoon/lib/python3.7/site-packages/ipykernel_launcher.py:8: DataConversionWarning: A column-vector y was passed when a 1d array was expected. Please change the shape of y to (n_samples,), for example using ravel().\n",
      "  \n"
     ]
    },
    {
     "name": "stdout",
     "output_type": "stream",
     "text": [
      "LR3 train RMSE : 15.895245006747516\n",
      "LR3 test RMSE : 16.1886324034849\n",
      "\n",
      "DT3 train RMSE : 15.67104863818857\n",
      "DT3 test RMSE : 16.811289151918544\n",
      "\n",
      "RF3 train RMSE : 14.96762256189319\n",
      "RF3 test RMSE : 15.94958512629898\n",
      "\n"
     ]
    },
    {
     "data": {
      "text/plain": [
       "'\\ndimension reduction을 위해 PCA로 feature를 추출하였고,\\nPCA로 생성된 features(30개)으로 위의 모델들을 다시 학습시켰습니다. \\n하지만 이것 역시 눈에 띄는 큰 차이는 없었습니다.\\n\\nLR의 경우 RMSE값이 FIlter와 PCA를 한 뒤 한 것이 처음에 한 LR보다 조금 높게 나왔습니다.\\nDT의 경우 RMSE값이 FIlter의 경우 처음한 것보다 매우 조금 낮게 나왔고,\\nPCA를 한뒤에는 처음한 것보다 더 높게 나왔다\\nDT의 경우 RMSE값이 처음 한것이 가장 낮게 나왔고 Filter와 PCA순으로 높게 나왔다.\\n'"
      ]
     },
     "execution_count": 15,
     "metadata": {},
     "output_type": "execute_result"
    }
   ],
   "source": [
    "#Retrain machine learning models with extracted feautures\n",
    "LR3 = LinearRegression()\n",
    "DT3 = DecisionTreeRegressor(random_state=26, max_depth=6)\n",
    "RF3 = RandomForestRegressor(random_state=26, min_samples_split=4, max_depth=6)\n",
    "\n",
    "LR3.fit(X_train_pca, y_train)\n",
    "DT3.fit(X_train_pca, y_train)\n",
    "RF3.fit(X_train_pca, y_train)\n",
    "\n",
    "#Linear Regression\n",
    "y_train_hat_LR3 = LR3.predict(X_train_pca)\n",
    "y_test_hat_LR3 = LR3.predict(X_test_pca)\n",
    "\n",
    "#Decision Tree\n",
    "y_train_hat_DT3 = DT3.predict(X_train_pca)\n",
    "y_test_hat_DT3 = DT3.predict(X_test_pca)\n",
    "\n",
    "#Random Forest\n",
    "y_train_hat_RF3 = RF3.predict(X_train_pca)\n",
    "y_test_hat_RF3 = RF3.predict(X_test_pca)\n",
    "\n",
    "\n",
    "print(f\"LR3 train RMSE : {MSE(y_train, y_train_hat_LR3) ** 0.5}\")\n",
    "print(f\"LR3 test RMSE : {MSE(y_test, y_test_hat_LR3) ** 0.5}\", end = '\\n\\n')\n",
    "\n",
    "print(f\"DT3 train RMSE : {MSE(y_train, y_train_hat_DT3) ** 0.5}\")\n",
    "print(f\"DT3 test RMSE : {MSE(y_test, y_test_hat_DT3) ** 0.5}\", end = '\\n\\n')\n",
    "\n",
    "print(f\"RF3 train RMSE : {MSE(y_train, y_train_hat_RF3) ** 0.5}\") \n",
    "print(f\"RF3 test RMSE : {MSE(y_test, y_test_hat_RF3) ** 0.5}\", end = '\\n\\n')\n",
    "\n",
    "\"\"\"\n",
    "dimension reduction을 위해 PCA로 feature를 추출하였고,\n",
    "PCA로 생성된 features(30개)으로 위의 모델들을 다시 학습시켰습니다. \n",
    "하지만 이것 역시 눈에 띄는 큰 차이는 없었습니다.\n",
    "\n",
    "LR의 경우 RMSE값이 FIlter와 PCA를 한 뒤 한 것이 처음에 한 LR보다 조금 높게 나왔습니다.\n",
    "DT의 경우 RMSE값이 FIlter의 경우 처음한 것보다 매우 조금 낮게 나왔고,\n",
    "PCA를 한뒤에는 처음한 것보다 더 높게 나왔다\n",
    "DT의 경우 RMSE값이 처음 한것이 가장 낮게 나왔고 Filter와 PCA순으로 높게 나왔다.\n",
    "\"\"\""
   ]
  },
  {
   "cell_type": "code",
   "execution_count": 16,
   "id": "bae89779",
   "metadata": {},
   "outputs": [
    {
     "name": "stdout",
     "output_type": "stream",
     "text": [
      "81/81 [==============================] - 0s 700us/step - loss: 269.8931 - mse: 269.8931\n",
      "RMSE : 16.428421153724855\n"
     ]
    },
    {
     "data": {
      "text/plain": [
       "'\\n혹시나 싶어 DNN에 PCA로 생성된 feature들을 학습시켜봤습니다. 하지만 역시 성능은 그대로였습니다.\\n'"
      ]
     },
     "execution_count": 16,
     "metadata": {},
     "output_type": "execute_result"
    }
   ],
   "source": [
    "##Retrain Deep learning models with extracted feautures\n",
    "model2 = create_model(30)\n",
    "history = model2.fit(X_train_pca, y_train, batch_size=128, epochs=30, verbose=False)\n",
    "pre = model2.predict(X_test_pca)\n",
    "model2.evaluate(X_test_pca, y_test)\n",
    "print(f\"RMSE : {MSE(pre, y_test) ** 0.5}\")\n",
    "\n",
    "\"\"\"\n",
    "혹시나 싶어 DNN에 PCA로 생성된 feature들을 학습시켜봤습니다. 하지만 역시 성능은 그대로였습니다.\n",
    "\"\"\""
   ]
  },
  {
   "cell_type": "code",
   "execution_count": 17,
   "id": "57446180",
   "metadata": {},
   "outputs": [
    {
     "name": "stdout",
     "output_type": "stream",
     "text": [
      "81/81 [==============================] - 0s 666us/step - loss: 245.5611 - mse: 245.5611\n",
      "last train mse : 245.45108032226562\n",
      "loss : 245.5611114501953, mse : 245.5611114501953\n",
      "81/81 [==============================] - 0s 675us/step - loss: 247.5284 - mse: 247.5284\n",
      "last train mse : 255.41229248046875\n",
      "loss : 247.5283660888672, mse : 247.5283660888672\n",
      "81/81 [==============================] - 0s 667us/step - loss: 249.6874 - mse: 249.6874\n",
      "last train mse : 247.51588439941406\n",
      "loss : 249.6873779296875, mse : 249.6873779296875\n",
      "81/81 [==============================] - 0s 685us/step - loss: 252.8458 - mse: 252.8458\n",
      "last train mse : 232.4851531982422\n",
      "loss : 252.84580993652344, mse : 252.84580993652344\n",
      "81/81 [==============================] - 0s 670us/step - loss: 288.9222 - mse: 288.9222\n",
      "last train mse : 251.63487243652344\n",
      "loss : 288.9222106933594, mse : 288.9222106933594\n",
      "81/81 [==============================] - 0s 679us/step - loss: 260.0682 - mse: 260.0682\n",
      "last train mse : 258.6475830078125\n",
      "loss : 260.0682067871094, mse : 260.0682067871094\n",
      "81/81 [==============================] - 0s 668us/step - loss: 269.8303 - mse: 269.8303\n",
      "last train mse : 240.2509765625\n",
      "loss : 269.830322265625, mse : 269.830322265625\n",
      "81/81 [==============================] - 0s 694us/step - loss: 249.7658 - mse: 249.7658\n",
      "last train mse : 236.92807006835938\n",
      "loss : 249.76583862304688, mse : 249.76583862304688\n",
      "81/81 [==============================] - 0s 654us/step - loss: 391.8605 - mse: 391.8605\n",
      "last train mse : 404.8429870605469\n",
      "loss : 391.86053466796875, mse : 391.86053466796875\n",
      "81/81 [==============================] - 0s 650us/step - loss: 246.6942 - mse: 246.6942\n",
      "last train mse : 240.099609375\n",
      "loss : 246.69418334960938, mse : 246.69418334960938\n",
      "length : 8\n",
      "bagging nn model rmse : 15.562824904688132\n"
     ]
    },
    {
     "data": {
      "text/plain": [
       "'\\nDNN의 성능을 강제로 끌어올리기 위해 bagging을 사용하였습니다. 데이터셋을 10번 복원추출 후, \\n그 데이터셋으로 10개의 같은 DNN모델을 학습을 시켰습니다. 학습 완료 후, test mse값이 일정이상\\n넘지 못한 열등한 모델은 제외하고, threshold값을 넘은 우수한 모델들로만 bagging모델을 구성하였습니다.\\n우수한 모델이 regression한 값의 평균으로 evaluation 했더니 RMSE값이 낮게 나왔습니다.\\n'"
      ]
     },
     "execution_count": 17,
     "metadata": {},
     "output_type": "execute_result"
    }
   ],
   "source": [
    "#DNN bagging model\n",
    "k = 10 #10times\n",
    "threshold = 270 #MSE threshold\n",
    "\n",
    "avg_list = []\n",
    "mse_list = []\n",
    "X_trainb = np.array(X_train)\n",
    "X_testb = np.array(X_test)\n",
    "y_trainb = np.array(y_train)\n",
    "y_testb = np.array(y_test)\n",
    "\n",
    "for fold in range(k):\n",
    "    idx = np.random.choice(X_trainb.shape[0], X_trainb.shape[0], replace=True)\n",
    "    X_train_base = X_trainb[idx,:]\n",
    "    y_train_base = y_trainb[idx]\n",
    "    \n",
    "    model = create_model(52)\n",
    "    history = model.fit(X_train_base, y_train_base, epochs=50, batch_size=256, \n",
    "                        verbose=False)\n",
    "    loss, mse = model.evaluate(X_testb, y_testb)\n",
    "    mse_list.append(mse)\n",
    "    \n",
    "    if mse < threshold:\n",
    "        pre = model.predict(X_testb)\n",
    "        avg_list.append(pre)\n",
    "        \n",
    "    print(f\"last train mse : {history.history['mse'][-1]}\")\n",
    "    print(f\"loss : {loss}, mse : {mse}\")\n",
    "    \n",
    "\n",
    "new_k = len(avg_list)\n",
    "total_avg = np.zeros(len(y_testb))\n",
    "\n",
    "for i in range(len(y_testb)):\n",
    "    for model_pre in range(new_k):\n",
    "        total_avg[i] += avg_list[model_pre][i]\n",
    "\n",
    "if new_k > 0:\n",
    "    total_avg = total_avg / new_k\n",
    "    print(f\"length : {new_k}\")\n",
    "    print(f\"bagging nn model rmse : {MSE(y_testb, total_avg) ** 0.5}\")\n",
    "\n",
    "\"\"\"\n",
    "DNN의 성능을 강제로 끌어올리기 위해 bagging을 사용하였습니다. 데이터셋을 10번 복원추출 후, \n",
    "그 데이터셋으로 10개의 같은 DNN모델을 학습을 시켰습니다. 학습 완료 후, test mse값이 일정이상\n",
    "넘지 못한 열등한 모델은 제외하고, threshold값을 넘은 우수한 모델들로만 bagging모델을 구성하였습니다.\n",
    "우수한 모델이 regression한 값의 평균으로 evaluation 했더니 RMSE값이 낮게 나왔습니다.\n",
    "\"\"\""
   ]
  },
  {
   "cell_type": "markdown",
   "id": "7c5f3975",
   "metadata": {},
   "source": [
    "데이터 시각화"
   ]
  },
  {
   "cell_type": "code",
   "execution_count": 18,
   "id": "73f8349c",
   "metadata": {},
   "outputs": [
    {
     "data": {
      "text/plain": [
       "'\\nDF, RF에서는 변수 중요도 상위 4개를 가지고 오고 Filter에서는 15개를 선정하여 가지고 오게 되었습니다.\\nFilter에서는 나름 고르게 나왔기에 15개를 선정하여 가지고 오게되었습니다.\\nTotal_Avg는 본래 데이터에서 분석하기위해 만든 Avg점수와 X_data를 합쳐서 만든 것입니다.\\n각각 데이터프레임을 합치는 작업을 하였습니다.\\n'"
      ]
     },
     "execution_count": 18,
     "metadata": {},
     "output_type": "execute_result"
    }
   ],
   "source": [
    "DT_X=X_data[['4-2','4-3','1-27','1-21']]\n",
    "RF_X=X_data[['4-2','4-3','1-27','1-24']]\n",
    "Filter_X=X_data[['4-2','4-3','1-27','1-21','3-14','3-11','3-12','3-9','3-13','3-6','3-15','3-8','1-26','3-7','4-1']]\n",
    "AVG_Y=Y_data[['average score']]\n",
    "DT_corr=pd.concat([DT_X,AVG_Y],axis=1)\n",
    "RF_corr=pd.concat([RF_X,AVG_Y],axis=1)\n",
    "Filter_corr=pd.concat([Filter_X,AVG_Y],axis=1)\n",
    "Total_Avg=pd.concat([X_data,AVG_Y],axis=1)\n",
    "\"\"\"\n",
    "DF, RF에서는 변수 중요도 상위 4개를 가지고 오고 Filter에서는 15개를 선정하여 가지고 오게 되었습니다.\n",
    "Filter에서는 나름 고르게 나왔기에 15개를 선정하여 가지고 오게되었습니다.\n",
    "Total_Avg는 본래 데이터에서 분석하기위해 만든 Avg점수와 X_data를 합쳐서 만든 것입니다.\n",
    "각각 데이터프레임을 합치는 작업을 하였습니다.\n",
    "\"\"\""
   ]
  },
  {
   "cell_type": "code",
   "execution_count": 19,
   "id": "d1f65cb4",
   "metadata": {
    "scrolled": true
   },
   "outputs": [
    {
     "data": {
      "text/plain": [
       "'\\ncorr()은 각각 상관계수를 구해주는 것이므로 데이터프레임마다 적용 시켜주었습니다.\\nDT,RF,Filter는 분석을 거친뒤 나온 변수입니다. 목적과 변수, 변수와 변수 사이의 상관계수를 보기 위하여 그대로 두었습니다.\\n전체데이터프레임에도 상관계수를 적용시켜보았습니다.\\n전체데이터에서는 목적으로 하는 것과 변수와의 상관계수만을 보기 위하여 라벨들을 제거 하는 작업을 거쳤습니다.\\n'"
      ]
     },
     "execution_count": 19,
     "metadata": {},
     "output_type": "execute_result"
    }
   ],
   "source": [
    "Corr_DT=DT_corr.corr()\n",
    "Corr_RF=RF_corr.corr()\n",
    "Corr_Filter=Filter_corr.corr()\n",
    "Corr_Total=total_df.corr()\n",
    "Corr_Total=Corr_Total[52:]\n",
    "Corr_Total=Corr_Total.drop(labels=['label-1','label-2','label-3','label-4','label-5','label-6'],axis=1)\n",
    "Corr_Avg=Total_Avg.corr()\n",
    "Corr_Avg=Corr_Avg[52:]\n",
    "Corr_Avg=Corr_Avg.drop(labels=['average score'],axis=1)\n",
    "\"\"\"\n",
    "corr()은 각각 상관계수를 구해주는 것이므로 데이터프레임마다 적용 시켜주었습니다.\n",
    "DT,RF,Filter는 분석을 거친뒤 나온 변수입니다. 목적과 변수, 변수와 변수 사이의 상관계수를 보기 위하여 그대로 두었습니다.\n",
    "전체데이터프레임에도 상관계수를 적용시켜보았습니다.\n",
    "전체데이터에서는 목적으로 하는 것과 변수와의 상관계수만을 보기 위하여 라벨들을 제거 하는 작업을 거쳤습니다.\n",
    "\"\"\""
   ]
  },
  {
   "cell_type": "code",
   "execution_count": 20,
   "id": "6189b614",
   "metadata": {},
   "outputs": [
    {
     "data": {
      "text/plain": [
       "'\\n전체 데이터셋에서 국영수원점수,척도점수와 변수간의 상관계수를 히트맵으로 시각화 하였습니다.\\n색이 연할 수록 상관계수가 높은 것이고 4-1,4-2,4-3측과 1-24,1-27측에서 목적과 상관관계가 상대적으로 높은 것으로 보입니다.\\n척도점수에서는 상관계수가 크게 작용하는 것 같지 않았습니다.\\n'"
      ]
     },
     "execution_count": 20,
     "metadata": {},
     "output_type": "execute_result"
    },
    {
     "data": {
      "image/png": "[encoded data removed]",
      "text/plain": [
       "<Figure size 432x288 with 2 Axes>"
      ]
     },
     "metadata": {
      "needs_background": "light"
     },
     "output_type": "display_data"
    }
   ],
   "source": [
    "sns.heatmap(Corr_Total)\n",
    "\"\"\"\n",
    "전체 데이터셋에서 국영수원점수,척도점수와 변수간의 상관계수를 히트맵으로 시각화 하였습니다.\n",
    "색이 연할 수록 상관계수가 높은 것이고 4-1,4-2,4-3측과 1-24,1-27측에서 목적과 상관관계가 상대적으로 높은 것으로 보입니다.\n",
    "척도점수에서는 상관계수가 크게 작용하는 것 같지 않았습니다.\n",
    "\"\"\""
   ]
  },
  {
   "cell_type": "code",
   "execution_count": 21,
   "id": "6f7094ca",
   "metadata": {},
   "outputs": [
    {
     "data": {
      "text/plain": [
       "'\\n전체 데이터셋에서 저희가 사용한 평균점수와 변수간의 상관계수를 히트맵으로 시각화 하였습니다.\\n색이 연할 수록 상관계수가 높은 것이고 4-1,4-2,4-3측과 1-24,1-27측에서 상관관계가 상대적으로 높은 것으로 보입니다.\\n평균으로 보니 더욱 직관적으로 변하였습니다.\\n'"
      ]
     },
     "execution_count": 21,
     "metadata": {},
     "output_type": "execute_result"
    },
    {
     "data": {
      "image/png": "[encoded data removed]",
      "text/plain": [
       "<Figure size 432x288 with 2 Axes>"
      ]
     },
     "metadata": {
      "needs_background": "light"
     },
     "output_type": "display_data"
    }
   ],
   "source": [
    "sns.heatmap(Corr_Avg)\n",
    "\"\"\"\n",
    "전체 데이터셋에서 저희가 사용한 평균점수와 변수간의 상관계수를 히트맵으로 시각화 하였습니다.\n",
    "색이 연할 수록 상관계수가 높은 것이고 4-1,4-2,4-3측과 1-24,1-27측에서 상관관계가 상대적으로 높은 것으로 보입니다.\n",
    "평균으로 보니 더욱 직관적으로 변하였습니다.\n",
    "\"\"\""
   ]
  },
  {
   "cell_type": "code",
   "execution_count": 22,
   "id": "aa49dc6d",
   "metadata": {},
   "outputs": [
    {
     "data": {
      "text/plain": [
       "'\\nDT에서 나온 변수와 목적, 변수와 변수 서로의 상관계수를 히트맵으로 시각화 하였습니다.\\nDT에서 구한 변수와 평균점수를 상관관계를 보니 4-2가 가장 목적과 상관관계가 있습니다.\\n변수간에는 4-2와 4-3간에 상관계수가 높은 것을 볼 수있습니다.\\n'"
      ]
     },
     "execution_count": 22,
     "metadata": {},
     "output_type": "execute_result"
    },
    {
     "data": {
      "image/png": "[encoded data removed]",
      "text/plain": [
       "<Figure size 432x288 with 2 Axes>"
      ]
     },
     "metadata": {
      "needs_background": "light"
     },
     "output_type": "display_data"
    }
   ],
   "source": [
    "sns.heatmap(Corr_DT)\n",
    "\"\"\"\n",
    "DT에서 나온 변수와 목적, 변수와 변수 서로의 상관계수를 히트맵으로 시각화 하였습니다.\n",
    "DT에서 구한 변수와 평균점수를 상관관계를 보니 4-2가 가장 목적과 상관관계가 있습니다.\n",
    "변수간에는 4-2와 4-3간에 상관계수가 높은 것을 볼 수있습니다.\n",
    "\"\"\""
   ]
  },
  {
   "cell_type": "code",
   "execution_count": 23,
   "id": "73c2291d",
   "metadata": {},
   "outputs": [
    {
     "data": {
      "text/plain": [
       "'\\nRF에서 나온 변수와 목적, 변수와 변수 서로의 상관계수를 히트맵으로 시각화 하였습니다.\\nRF에서도 구한 변수와 평균점수를 상관관계를 보니 4-2가 상관관계가 있습니다.\\n변수간에는 4-2와 4-3간에 상관계수가 높은 것을 볼 수있습니다.\\n'"
      ]
     },
     "execution_count": 23,
     "metadata": {},
     "output_type": "execute_result"
    },
    {
     "data": {
      "image/png": "[encoded data removed]",
      "text/plain": [
       "<Figure size 432x288 with 2 Axes>"
      ]
     },
     "metadata": {
      "needs_background": "light"
     },
     "output_type": "display_data"
    }
   ],
   "source": [
    "sns.heatmap(Corr_RF)\n",
    "\"\"\"\n",
    "RF에서 나온 변수와 목적, 변수와 변수 서로의 상관계수를 히트맵으로 시각화 하였습니다.\n",
    "RF에서도 구한 변수와 평균점수를 상관관계를 보니 4-2가 상관관계가 있습니다.\n",
    "변수간에는 4-2와 4-3간에 상관계수가 높은 것을 볼 수있습니다.\n",
    "\"\"\""
   ]
  },
  {
   "cell_type": "code",
   "execution_count": 24,
   "id": "bdfcf02f",
   "metadata": {},
   "outputs": [
    {
     "data": {
      "text/plain": [
       "'\\nFilter에서 나온 변수와 목적, 변수와 변수 서로의 상관계수를 히트맵으로 시각화 하였습니다.\\nFilter에서 구한 변수와 평균점수를 상관관계를 보니 4-2가 상관관계가 있다.\\n변수간에는 앞의 숫자인 3끼리와 4끼리 상관계수가 높은 것으로 나왔습니다.\\n'"
      ]
     },
     "execution_count": 24,
     "metadata": {},
     "output_type": "execute_result"
    },
    {
     "data": {
      "image/png": "[encoded data removed]",
      "text/plain": [
       "<Figure size 432x288 with 2 Axes>"
      ]
     },
     "metadata": {
      "needs_background": "light"
     },
     "output_type": "display_data"
    }
   ],
   "source": [
    "sns.heatmap(Corr_Filter)\n",
    "\"\"\"\n",
    "Filter에서 나온 변수와 목적, 변수와 변수 서로의 상관계수를 히트맵으로 시각화 하였습니다.\n",
    "Filter에서 구한 변수와 평균점수를 상관관계를 보니 4-2가 상관관계가 있다.\n",
    "변수간에는 앞의 숫자인 3끼리와 4끼리 상관계수가 높은 것으로 나왔습니다.\n",
    "\"\"\""
   ]
  }
 ],
 "metadata": {
  "kernelspec": {
   "display_name": "Python [conda env:jeongyoon] *",
   "language": "python",
   "name": "conda-env-jeongyoon-py"
  },
  "language_info": {
   "codemirror_mode": {
    "name": "ipython",
    "version": 3
   },
   "file_extension": ".py",
   "mimetype": "text/x-python",
   "name": "python",
   "nbconvert_exporter": "python",
   "pygments_lexer": "ipython3",
   "version": "3.7.13"
  }
 },
 "nbformat": 4,
 "nbformat_minor": 5
}
